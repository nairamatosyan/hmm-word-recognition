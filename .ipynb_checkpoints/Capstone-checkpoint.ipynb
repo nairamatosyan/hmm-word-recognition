{
 "cells": [
  {
   "cell_type": "code",
   "execution_count": null,
   "metadata": {},
   "outputs": [],
   "source": [
    "#  =========================================================================================\n",
    "#  Capstone Project\n",
    "#    Hidden Markov Models(HMM) in Speech Recogntion\n",
    "#    Specifically in this case HMM is used in Isolated Word Recognition\n",
    "#  Description: This code implements the paper:\"Hidden Markov Models in Speech Recogntion\"\n",
    "#  Supervisor: Michael Poghosyan\n",
    "#  Group Members: Naira Matosyan, Silva Arakelyan\n",
    "#  Dataset: Speech Commands Dataset released by Google\n",
    "#           https://datarepository.wolframcloud.com/resources/Spoken-Digit-Commands-Dataset\n",
    "#            23666 recordings of digits 0-9\n",
    "#  input:  \n",
    "#        Recordings of digits 0-9 in .wav format\n",
    "#  output: \n",
    "#        The accuracy is calcuated and then visualized by confusion matrix\n",
    "# =========================================================================================\n"
   ]
  },
  {
   "cell_type": "code",
   "execution_count": 1,
   "metadata": {},
   "outputs": [],
   "source": [
    "import numpy as np\n",
    "from scipy.io import wavfile\n",
    "from hmmlearn import hmm\n",
    "import os\n",
    "import warnings\n",
    "import scipy.stats as sp\n",
    "from python_speech_features import mfcc\n",
    "import operator\n",
    "import matplotlib.pyplot as plt\n",
    "from sklearn.metrics import confusion_matrix\n",
    "import operator\n",
    "import glob\n",
    "import itertools"
   ]
  },
  {
   "cell_type": "code",
   "execution_count": 2,
   "metadata": {},
   "outputs": [],
   "source": [
    "num_of_states = 10  # number of hidden states\n",
    "num_of_mixtures = 2  # number of mixtures for each hidden state\n",
    "covariance_type = 'diag'  # covariance type\n",
    "n_iter = 1000  # number of iterations\n",
    "dimension = 2"
   ]
  },
  {
   "cell_type": "code",
   "execution_count": 100,
   "metadata": {},
   "outputs": [],
   "source": [
    "#This function returns the initial prior probabilities vector for model\n",
    "def getPriorProabiblity():\n",
    "    priorProabiblity = np.zeros(num_of_states)\n",
    "    priorProabiblity[0: dimension] = 1/float(dimension)\n",
    "    return priorProabiblity"
   ]
  },
  {
   "cell_type": "code",
   "execution_count": 101,
   "metadata": {},
   "outputs": [],
   "source": [
    "#This function returns the initial transition matrix according to left-right model\n",
    "def getTransitionMatrix():\n",
    "    transitionMatrix = (1 / float(dimension + 1)) * np.eye(num_of_states)\n",
    "\n",
    "    for i in range(num_of_states - dimension):\n",
    "        for j in range(dimension):\n",
    "            transitionMatrix[i, i + j + 1] = 1. / (dimension + 1)\n",
    "    j = 0;\n",
    "    for i in range(num_of_states - dimension, num_of_states):\n",
    "        for j in range(num_of_states - i - j):\n",
    "            transitionMatrix[i, i + j] = 1. / (num_of_states - i)\n",
    "\n",
    "    return transitionMatrix"
   ]
  },
  {
   "cell_type": "code",
   "execution_count": 102,
   "metadata": {},
   "outputs": [],
   "source": [
    "#Construct GMM + HMM based on passed parameters\n",
    "def constructGMMHMM() :\n",
    "    return hmm.GMMHMM(n_components = num_of_states, n_mix = num_of_mixtures, \\\n",
    "                      transmat_prior = getTransitionMatrix(), startprob_prior = getPriorProabiblity(), \\\n",
    "                      covariance_type = covariance_type, n_iter = n_iter)"
   ]
  },
  {
   "cell_type": "code",
   "execution_count": 103,
   "metadata": {},
   "outputs": [],
   "source": [
    "#Construct Gaussian HMM, i.e. GMM + HMM with 1 mixture model\n",
    "def constructGaussianHMM() :\n",
    "    return hmm.GaussianHMM(n_components = num_of_states,\\\n",
    "                      covariance_type = covariance_type, n_iter = n_iter)"
   ]
  },
  {
   "cell_type": "code",
   "execution_count": 104,
   "metadata": {},
   "outputs": [],
   "source": [
    "labels = []\n",
    "words = []\n",
    "features = []\n",
    "hmmModels = []\n",
    "folder_name = 'Audio' # Folder name of the dataset"
   ]
  },
  {
   "cell_type": "code",
   "execution_count": 105,
   "metadata": {},
   "outputs": [],
   "source": [
    "# Get MFCC features based on path of audio\n",
    "def get_mfcc(audio_path):\n",
    "    sample_rate, wave =  wavfile.read(audio_path)\n",
    "    return mfcc(wave, nfft=1024, samplerate=sample_rate, numcep=13)"
   ]
  },
  {
   "cell_type": "code",
   "execution_count": 106,
   "metadata": {},
   "outputs": [
    {
     "name": "stdout",
     "output_type": "stream",
     "text": [
      "('Finished training for: ', 'eight')\n",
      "('Finished training for: ', 'five')\n",
      "('Finished training for: ', 'four')\n",
      "('Finished training for: ', 'nine')\n",
      "('Finished training for: ', 'one')\n",
      "('Finished training for: ', 'seven')\n",
      "('Finished training for: ', 'six')\n",
      "('Finished training for: ', 'three')\n",
      "('Finished training for: ', 'two')\n",
      "('Finished training for: ', 'zero')\n"
     ]
    }
   ],
   "source": [
    "#Loop over all folders inside directory of dataset (those will be our labels)\n",
    "for file_name in os.listdir(folder_name):\n",
    "    features = np.array([])\n",
    "    data_length = len(os.listdir(folder_name + '/' + file_name))\n",
    "    #Taking the index to split data into two parts, 80% and 20% (training and testing set) \n",
    "    training_index = int(data_length * 0.8)\n",
    "    #Loop over audio files in training set, construct their MFCC features and append them\n",
    "    for audio_name in os.listdir(folder_name + '/' + file_name)[0:training_index]:\n",
    "        if len(features) == 0:\n",
    "            features = get_mfcc(folder_name + '/' + file_name + '/' + audio_name)\n",
    "        else:\n",
    "            features = np.append(features, get_mfcc(folder_name + '/' + file_name + '/' + audio_name), axis=0)\n",
    "        labels.append(file_name)\n",
    "        if file_name not in words:\n",
    "            words.append(file_name)\n",
    "    # Construct hmm model for each label\n",
    "    hmmModel = constructGaussianHMM()\n",
    "    np.seterr(all='ignore')\n",
    "    # Train hmm model on MFCC features corresponding to the label\n",
    "    hmmModel.fit(features)\n",
    "    print('Finished training for: ', file_name)\n",
    "    hmmModels.append((hmmModel, file_name))"
   ]
  },
  {
   "cell_type": "code",
   "execution_count": 3,
   "metadata": {},
   "outputs": [],
   "source": [
    "#Visualization of MFCC features for the first audio in each folder\n",
    "figure = plt.figure()\n",
    "for idx ,word in enumerate(words): \n",
    "   mfcc_features = get_mfcc(folder_name + '/' + word + '/' + os.listdir(folder_name + '/' + word)[0])\n",
    "   plt.matshow((mfcc_features.T)[:,:50])\n",
    "   plt.text(50, -5, word, horizontalalignment='left', fontsize=20)"
   ]
  },
  {
   "cell_type": "code",
   "execution_count": 4,
   "metadata": {},
   "outputs": [],
   "source": [
    "# Calculate score (log likelihood) for each observation sequence from testing set for each model and take label \n",
    "#corresponding to max score\n",
    "count = 0\n",
    "predicted_labels = []\n",
    "real_labels = []\n",
    "for file_name in os.listdir(folder_name):\n",
    "    data_length = len(os.listdir(folder_name + '/' + file_name))\n",
    "    # Take testing set 20% of the whole samples under each label\n",
    "    testing_index = int(data_length * 0.8)\n",
    "    for audio_name in os.listdir(folder_name + '/' + file_name)[testing_index:data_length]:\n",
    "        features = get_mfcc(folder_name + '/' + file_name + '/' + audio_name)\n",
    "        probs = {}\n",
    "        for item in hmmModels:\n",
    "            hmm_model, label = item\n",
    "            # Calculate score of each observation sequence (log likelihood)\n",
    "            probs[label] = hmm_model.score(features)\n",
    "        # Get key having the highest score as predicted label\n",
    "        result = max(probs.iteritems(), key=operator.itemgetter(1))[0]\n",
    "        predicted_labels.append(result)\n",
    "        real_labels.append(file_name)\n",
    "        if (result == file_name):\n",
    "            count = count+1\n",
    "print('Accuracy of the model on testing set is: ', (count * 100 / len(real_labels)))"
   ]
  },
  {
   "cell_type": "code",
   "execution_count": 5,
   "metadata": {},
   "outputs": [],
   "source": [
    "# Getting confusion matrix of testing set and plotting it\n",
    "conf_matrix = confusion_matrix(real_labels, predicted_labels)\n",
    "np.set_printoptions(precision=2)\n",
    "plt.figure()\n",
    "conf_matrix = conf_matrix.astype('float') / conf_matrix.sum(axis=1)[:, np.newaxis]\n",
    "plt.imshow(conf_matrix, interpolation='nearest', cmap=plt.cm.Blues)\n",
    "plt.title('Confusion matrix')\n",
    "plt.xticks(range(len(words)), words, rotation=45)\n",
    "plt.yticks(range(len(words)), words)\n",
    "for i, j in itertools.product(range(conf_matrix.shape[0]), range(conf_matrix.shape[1])):\n",
    "    plt.text(j, i, format(conf_matrix[i, j], '.2f'),\n",
    "             horizontalalignment=\"center\",\n",
    "             color=\"white\" if i == j else \"black\")\n",
    "plt.tight_layout()\n",
    "plt.ylabel('Correct label')\n",
    "plt.xlabel('Predicted label')\n",
    "plt.show()"
   ]
  },
  {
   "cell_type": "code",
   "execution_count": null,
   "metadata": {},
   "outputs": [],
   "source": []
  },
  {
   "cell_type": "code",
   "execution_count": null,
   "metadata": {},
   "outputs": [],
   "source": []
  }
 ],
 "metadata": {
  "kernelspec": {
   "display_name": "Python 2",
   "language": "python",
   "name": "python2"
  },
  "language_info": {
   "codemirror_mode": {
    "name": "ipython",
    "version": 2
   },
   "file_extension": ".py",
   "mimetype": "text/x-python",
   "name": "python",
   "nbconvert_exporter": "python",
   "pygments_lexer": "ipython2",
   "version": "2.7.16"
  }
 },
 "nbformat": 4,
 "nbformat_minor": 2
}
